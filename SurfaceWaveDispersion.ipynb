{
 "cells": [
  {
   "cell_type": "markdown",
   "metadata": {},
   "source": [
    "Author:\n",
    "\n",
    "Thomas Ulrich\n",
    "\n",
    "\n",
    "Surface waves and their dispersion are the main focus of this notebook. \n",
    "Using synthetic seismograms generated with Instaseis (http://instaseis.net/), we try to recover the dispersion curves of Love and Rayleigh waves of the PREM model."
   ]
  },
  {
   "cell_type": "code",
   "execution_count": null,
   "metadata": {},
   "outputs": [],
   "source": [
    "import instaseis\n",
    "import obspy\n",
    "from obspy.taup.taup_geo import calc_dist\n",
    "import matplotlib.pyplot as plt\n",
    "import numpy as np\n",
    "\n",
    "\n",
    "def removeTopRightAxis(ax):\n",
    "    # remove top right axis\n",
    "    ax.spines[\"top\"].set_visible(False)\n",
    "    ax.spines[\"right\"].set_visible(False)\n",
    "    ax.get_xaxis().tick_bottom()\n",
    "    ax.get_yaxis().tick_left()"
   ]
  },
  {
   "cell_type": "markdown",
   "metadata": {},
   "source": [
    "We first generate synthetic seismograms with Instaseis by specifying moment tensor, source and receiver locations."
   ]
  },
  {
   "cell_type": "code",
   "execution_count": null,
   "metadata": {},
   "outputs": [],
   "source": [
    "db = instaseis.open_db(\"syngine://prem_i_2s\")\n",
    "# Source\n",
    "lats = 89.91\n",
    "lons = 74.4940\n",
    "# receiver\n",
    "latr = 42.6390\n",
    "lonr = 74.4940\n",
    "\n",
    "receiver = instaseis.Receiver(latitude=latr, longitude=lonr, network=\"AB\", station=\"CED\")\n",
    "t0 = obspy.UTCDateTime(2011, 1, 2, 3, 4, 5)\n",
    "source = instaseis.Source(\n",
    "    latitude=lats,\n",
    "    longitude=lons,\n",
    "    depth_in_m=12000,\n",
    "    m_rr=4.710000e24 / 1e7,\n",
    "    m_tt=3.810000e22 / 1e7,\n",
    "    m_pp=-4.740000e24 / 1e7,\n",
    "    m_rt=3.990000e23 / 1e7,\n",
    "    m_rp=-8.050000e23 / 1e7,\n",
    "    m_tp=-1.230000e24 / 1e7,\n",
    "    origin_time=t0,\n",
    ")\n",
    "st = db.get_seismograms(\n",
    "    source=source, receiver=receiver, components=[\"Z\", \"R\", \"T\"], kind=\"displacement\"\n",
    ")\n",
    "st.plot()"
   ]
  },
  {
   "cell_type": "markdown",
   "metadata": {},
   "source": [
    "## Group Velocity\n",
    "\n",
    "If dispersion occurs, waves of different wavelengths travel at different speeds.  \n",
    "In the following, we band-pass filter the seismograms around various central periods, ranging from 5 to 250s."
   ]
  },
  {
   "cell_type": "code",
   "execution_count": null,
   "metadata": {},
   "outputs": [],
   "source": [
    "myPeriods = [5.0, 7.5, 10, 12.5, 15, 20, 50, 100, 150, 200, 250]\n",
    "nper = len(myPeriods)\n",
    "\n",
    "figall, axarr = plt.subplots(nper + 1, 1, figsize=(14, 9), dpi=160, sharex=True, sharey=False)\n",
    "for i in range(nper + 1):\n",
    "    removeTopRightAxis(axarr[i])\n",
    "\n",
    "iZRT = 2\n",
    "axarr[0].plot(st[iZRT].times(reftime=t0), st[iZRT].data, label=\"no filter\")\n",
    "axarr[0].legend()\n",
    "print(\"BP filter central frequency, time of envelope maximum\")\n",
    "pickedArrival = np.zeros((nper, 1))\n",
    "for i, T in enumerate(myPeriods):\n",
    "    st_temp = st.copy()\n",
    "    st_temp.filter(\"bandpass\", freqmin=0.85 / T, freqmax=1.15 / T, corners=4, zerophase=True)\n",
    "    axarr[i + 1].plot(\n",
    "        st_temp[iZRT].times(reftime=t0),\n",
    "        st_temp[iZRT].data,\n",
    "        label=\"T=%.1fs\" % T,\n",
    "    )\n",
    "    # Envelope of filtered data\n",
    "    data_envelope = obspy.signal.filter.envelope(st_temp[iZRT].data)\n",
    "    axarr[i + 1].plot(st_temp[iZRT].times(reftime=t0), data_envelope.data)\n",
    "    idmax = np.argmax(data_envelope.data)\n",
    "    print(T, st_temp[iZRT].times(reftime=t0)[idmax])\n",
    "    pickedArrival[i] = st_temp[iZRT].times(reftime=t0)[idmax]\n",
    "    axarr[i + 1].legend()\n",
    "\n",
    "\n",
    "axarr[nper].set_xlabel(\"time (s)\")\n",
    "axarr[nper // 2].set_ylabel(\"displacement (m)\")\n",
    "plt.show()"
   ]
  },
  {
   "cell_type": "markdown",
   "metadata": {},
   "source": [
    "To compute the group velocity, we compute the distance between source and receivers using obspy."
   ]
  },
  {
   "cell_type": "code",
   "execution_count": null,
   "metadata": {},
   "outputs": [],
   "source": [
    "dist_degree_sr = calc_dist(\n",
    "    source_latitude_in_deg=lats,\n",
    "    source_longitude_in_deg=lons,\n",
    "    receiver_latitude_in_deg=latr,\n",
    "    receiver_longitude_in_deg=lonr,\n",
    "    radius_of_planet_in_km=6371,\n",
    "    flattening_of_planet=0,\n",
    ")\n",
    "dist_km_sr = 6371 * dist_degree_sr * 2 * np.pi / 360.0\n",
    "print(f\"distance source-receivers: {dist_km_sr:.1f} km ({dist_degree_sr:.1f} deg)\")"
   ]
  },
  {
   "cell_type": "markdown",
   "metadata": {},
   "source": [
    "Now we plot the inferred dispersion curves and compare them with theoretical estimates."
   ]
  },
  {
   "cell_type": "code",
   "execution_count": null,
   "metadata": {},
   "outputs": [],
   "source": [
    "plt.plot(myPeriods, dist_km_sr / pickedArrival, \"x\", label=\"this notebook\")\n",
    "plt.xlabel(\"frequency (Hz)\")\n",
    "plt.ylabel(\"group velocity (km/s)\")\n",
    "\n",
    "\n",
    "# source: http://online.kitp.ucsb.edu/online/earth_m06/masters2/oh/08.html\n",
    "PREM_groupVelRayleigh = \"\"\"19.54918\t3.352409\n",
    "22.592722\t3.5495863\n",
    "29.88685\t3.7826443\n",
    "48.336567\t3.9184444\n",
    "70.88198\t3.88144\n",
    "108.34908\t3.7869449\n",
    "163.06877\t3.6745753\n",
    "207.68121\t3.600516\n",
    "245.99522\t3.5769787\n",
    "271.7795\t3.611183\n",
    "298.8952\t3.7124586\n",
    "\"\"\"\n",
    "# source: http://online.kitp.ucsb.edu/online/earth_m06/masters2/oh/08.html\n",
    "PREM_groupVelLove = \"\"\"\n",
    "19.49333\t3.26055\n",
    "23.80026\t3.4672015\n",
    "28.953934\t3.7215185\n",
    "37.50143\t3.9565687\n",
    "44.815434\t4.1042824\n",
    "60.388584\t4.1978517\n",
    "83.67851\t4.264917\n",
    "122.87113\t4.283009\n",
    "160.17804\t4.28892\n",
    "217.57329\t4.2980137\n",
    "264.88776\t4.321354\n",
    "299.29742\t4.3386884\n",
    "\"\"\"\n",
    "\n",
    "\n",
    "# a = np.fromstring(PREM_groupVelRayleigh,sep='\t')\n",
    "a = np.fromstring(PREM_groupVelLove, sep=\"\t\")\n",
    "PREM_groupVel = a.reshape((len(a) // 2, 2))\n",
    "plt.plot(PREM_groupVel[:, 0], PREM_groupVel[:, 1], label=\"PREM (Gabi Laske)\")\n",
    "plt.legend()\n",
    "plt.show()"
   ]
  },
  {
   "cell_type": "markdown",
   "metadata": {},
   "source": [
    "## Phase velocity\n",
    "\n",
    "The frequency-dependent phase of a seismogram can be obtained by taking the Fourrier transform of it. It can be written as follows: \n",
    "\n",
    "\\begin{equation*}\n",
    "\\Phi(\\omega) = \\omega t - k(\\omega) x + \\Phi_i(\\omega) + 2n\\pi = \\omega t - \\omega x / c(\\omega)+ \\Phi_i(\\omega) + 2n\\pi\n",
    "\\end{equation*}\n",
    "\n",
    "Where $\\omega t - \\omega x / c(\\omega)$ is the phase due to the propagation in space and time,  \n",
    "$\\Phi_i(\\omega)$ depends on the source and  \n",
    "$2n\\pi$ reflects the periodicity of the phase.  \n",
    "To compute the phase velocity we need to track the same wave at two receivers.  \n",
    "Assuming that the receivers are at distance $x_1$ and $x_2$ from the source, and the wave passes at time $t_1$ and $t_2$ at each receivers, then the phase of both receivers would be:  \n",
    "\n",
    "\\begin{equation*}\n",
    "\\Phi_1(\\omega) =   \\omega t_1 - \\omega x_1 / c(\\omega)+ \\Phi_i(\\omega) + 2n\\pi\n",
    "\\end{equation*}\n",
    "and  \n",
    "\\begin{equation*}\n",
    "\\Phi_2(\\omega) = \\omega t_2 - \\omega x_2 / c(\\omega)+ \\Phi_i(\\omega) + 2m\\pi\n",
    "\\end{equation*}\n",
    "\n",
    "Then c can be obtained from the difference $\\Phi_{21}(\\omega)$ between $\\Phi_2(\\omega)$ and $\\Phi_1(\\omega)$:\n",
    "\\begin{equation*}\n",
    "c(\\omega) = \\omega (x_2-x_1)/(\\omega (t_2-t_1)+ 2(m-n)\\pi- \\Phi_{21}(\\omega))\n",
    "\\end{equation*}\n",
    "the term m-n is found empirically ensuring that the phase velocity is reasonable for long periods.  \n",
    "source: Stein and Wysession."
   ]
  },
  {
   "cell_type": "code",
   "execution_count": null,
   "metadata": {},
   "outputs": [],
   "source": [
    "receiver2 = instaseis.Receiver(latitude=latr - 6, longitude=lonr)\n",
    "st2 = db.get_seismograms(\n",
    "    source=source, receiver=receiver2, components=[\"Z\", \"R\", \"T\"], kind=\"displacement\"\n",
    ")\n",
    "st.plot()\n",
    "st2.plot()"
   ]
  },
  {
   "cell_type": "code",
   "execution_count": null,
   "metadata": {},
   "outputs": [],
   "source": [
    "myPeriods = [50, 100, 150, 200, 250]\n",
    "nper = len(myPeriods)\n",
    "\n",
    "figall, axarr = plt.subplots(nper + 1, 1, figsize=(14, 9), dpi=160, sharex=True, sharey=False)\n",
    "for i in range(nper + 1):\n",
    "    removeTopRightAxis(axarr[i])\n",
    "iZRT = 2\n",
    "axarr[0].plot(st[iZRT].times(reftime=t0), st[iZRT].data, label=\"no filter, r1\")\n",
    "axarr[0].plot(st2[iZRT].times(reftime=t0), st2[iZRT].data, label=\"no filter, r2\")\n",
    "axarr[0].legend()\n",
    "\n",
    "pickedArrival = np.zeros((nper, 3))\n",
    "pickedArrival[:, 0] = myPeriods\n",
    "for i, T in enumerate(myPeriods):\n",
    "    for k, sti in enumerate([st, st2]):\n",
    "        st_temp = sti.copy()\n",
    "        st_temp.filter(\"bandpass\", freqmin=0.85 / T, freqmax=1.15 / T, corners=4, zerophase=True)\n",
    "        axarr[i + 1].plot(\n",
    "            st_temp[iZRT].times(reftime=t0),\n",
    "            st_temp[iZRT].data,\n",
    "            label=\"T=%.1fs\" % T,\n",
    "        )\n",
    "        # Envelope of filtered data\n",
    "        data_envelope = obspy.signal.filter.envelope(st_temp[iZRT].data)\n",
    "        axarr[i + 1].plot(st_temp[iZRT].times(reftime=t0), data_envelope.data)\n",
    "        idmax = np.argmax(data_envelope.data)\n",
    "        pickedArrival[i, k + 1] = st_temp[iZRT].times(reftime=t0)[idmax]\n",
    "        axarr[i + 1].legend()\n",
    "print(pickedArrival)\n",
    "\n",
    "axarr[5].set_xlabel(\"time (s)\")\n",
    "axarr[5].set_ylabel(\"displacement (m)\")\n",
    "plt.show()"
   ]
  },
  {
   "cell_type": "code",
   "execution_count": null,
   "metadata": {},
   "outputs": [],
   "source": []
  }
 ],
 "metadata": {
  "kernelspec": {
   "display_name": "Python 3",
   "language": "python",
   "name": "python3"
  },
  "language_info": {
   "codemirror_mode": {
    "name": "ipython",
    "version": 3
   },
   "file_extension": ".py",
   "mimetype": "text/x-python",
   "name": "python",
   "nbconvert_exporter": "python",
   "pygments_lexer": "ipython3",
   "version": "3.7.10"
  }
 },
 "nbformat": 4,
 "nbformat_minor": 2
}
